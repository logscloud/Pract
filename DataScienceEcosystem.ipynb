{
 "cells": [
  {
   "cell_type": "markdown",
   "id": "ac32d8e4-9a47-4c4b-a724-b3bd924de621",
   "metadata": {},
   "source": [
    "## Data Science Tools and Ecosystem"
   ]
  },
  {
   "cell_type": "markdown",
   "id": "664a206c-d5bc-499c-a609-cc94bbea3e8a",
   "metadata": {},
   "source": [
    "### In this notebook, Data Science Tools and Ecosystem are summarized"
   ]
  },
  {
   "cell_type": "markdown",
   "id": "30c6f5c6-f679-4493-9232-54af3fa21f23",
   "metadata": {},
   "source": [
    "#### Objectives:"
   ]
  },
  {
   "cell_type": "code",
   "execution_count": 3,
   "id": "2bcafb4d-52bb-4b9e-a3f8-68d24da30f3b",
   "metadata": {
    "tags": []
   },
   "outputs": [
    {
     "name": "stdout",
     "output_type": "stream",
     "text": [
      "List popular languages for Data Science\n",
      "simple arithmetic expression\n",
      "Conversion from hours to minute\n"
     ]
    }
   ],
   "source": [
    "print(\"List popular languages for Data Science\")\n",
    "print(\"simple arithmetic expression\")\n",
    "print(\"Conversion from hours to minute\")\n",
    "    "
   ]
  },
  {
   "cell_type": "markdown",
   "id": "a326fc94-61ef-4916-8a68-d4b87d5a2294",
   "metadata": {},
   "source": [
    "## Some of the popular languages that Data Scientists use are\n",
    "Python R Julia Java Sql\n",
    "\n"
   ]
  },
  {
   "cell_type": "markdown",
   "id": "2274614a-9048-4800-af12-b5a2e241b69b",
   "metadata": {},
   "source": [
    "## Some of the commonly used libraries used by Data Scientists include:\n",
    "Pandas\n",
    "Numpy\n",
    "matplotlib\n",
    "seaborn"
   ]
  },
  {
   "cell_type": "markdown",
   "id": "6bb0c6b9-4ee7-4594-aa43-55c75bc97dc8",
   "metadata": {},
   "source": [
    "# Data Science Tools\n",
    "Jupiter Notebook\n",
    "Visual Studioncode\n",
    "R language\n"
   ]
  },
  {
   "cell_type": "markdown",
   "id": "c30b0f54-3a93-4bdc-88bb-22646e4e1cc0",
   "metadata": {},
   "source": [
    "### Below are a few examples of evaluating arithmetic expressions in Python"
   ]
  },
  {
   "cell_type": "code",
   "execution_count": 2,
   "id": "70fd0a82-d715-43db-a3b6-7915edb6d6f7",
   "metadata": {
    "tags": []
   },
   "outputs": [
    {
     "name": "stdout",
     "output_type": "stream",
     "text": [
      "17\n"
     ]
    }
   ],
   "source": [
    "#This a simple arithmetic expression to mutiply then add integers\n",
    "x=(3*4)+5\n",
    "x=(3*4)+5\n",
    "print(x)"
   ]
  },
  {
   "cell_type": "code",
   "execution_count": 1,
   "id": "91160550-19f6-448c-8e3e-1e24bd03572d",
   "metadata": {
    "tags": []
   },
   "outputs": [
    {
     "name": "stdout",
     "output_type": "stream",
     "text": [
      "3.3333333333333335\n"
     ]
    }
   ],
   "source": [
    "#This will convert 200 minutes to hours by diving by 60\n",
    "minutes=200\n",
    "hours=minutes/60\n",
    "print(hours)"
   ]
  },
  {
   "cell_type": "markdown",
   "id": "f708ade4-4c5e-414d-98b2-ce8c798ba6f9",
   "metadata": {},
   "source": [
    "## Lakshmi Holla\n",
    "## Niveditha Pandith\n",
    "​\n",
    "Lawal Ganiyat Ayomide\n"
   ]
  }
 ],
 "metadata": {
  "kernelspec": {
   "display_name": "Python",
   "language": "python",
   "name": "conda-env-python-py"
  },
  "language_info": {
   "codemirror_mode": {
    "name": "ipython",
    "version": 3
   },
   "file_extension": ".py",
   "mimetype": "text/x-python",
   "name": "python",
   "nbconvert_exporter": "python",
   "pygments_lexer": "ipython3",
   "version": "3.7.12"
  }
 },
 "nbformat": 4,
 "nbformat_minor": 5
}
